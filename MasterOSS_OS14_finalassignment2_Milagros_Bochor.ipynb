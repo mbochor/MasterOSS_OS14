{
  "nbformat": 4,
  "nbformat_minor": 0,
  "metadata": {
    "colab": {
      "provenance": []
    },
    "kernelspec": {
      "name": "python3",
      "display_name": "Python 3"
    }
  },
  "cells": [
    {
      "cell_type": "markdown",
      "metadata": {
        "id": "2ApoFRnQunhP"
      },
      "source": [
        "____\n",
        "__Universite de Technologie de Troyes__<br/>\n",
        "__Universidad Tecnologica Nacional Buenos Aires__<br/>\n",
        "__Master OSS__<br/>\n",
        "__Machine Learning & Pattern Recognition__<br/>\n",
        "__Practice Sessions__<br/>\n",
        "__Teacher: Martin Palazzo__<br/>\n",
        "__Topic: Final Assessment__\n",
        "____"
      ]
    },
    {
      "cell_type": "code",
      "metadata": {
        "id": "q43g28bSr-7H"
      },
      "source": [
        "# basics\n",
        "import pandas as pd\n",
        "import matplotlib.pyplot as plt\n",
        "import seaborn as sns\n",
        "import tensorflow as tf\n",
        "import numpy as np\n",
        "\n",
        "#Train test\n",
        "from sklearn.model_selection import train_test_split\n",
        "\n",
        "#sklearn\n",
        "from sklearn.model_selection import train_test_split\n",
        "from sklearn import datasets\n",
        "\n",
        "\n",
        "#StandarScaler\n",
        "from sklearn.preprocessing import StandardScaler\n",
        "from sklearn.preprocessing import MinMaxScaler\n",
        "\n",
        "#PCA\n",
        "from sklearn.decomposition import PCA\n",
        "\n",
        "#Kernell PCA\n",
        "from sklearn.decomposition import KernelPCA\n",
        "\n",
        "#TSNE\n",
        "from sklearn.manifold import TSNE\n",
        "\n",
        "#SVM\n",
        "from sklearn.svm import SVC # \"Support vector classifier\"\n",
        "from sklearn.metrics import confusion_matrix, classification_report\n",
        "from sklearn.metrics import accuracy_score\n",
        "\n",
        "#Logistic Regression\n",
        "from sklearn.linear_model import LogisticRegression\n",
        "\n",
        "\n",
        "#Grid search\n",
        "from sklearn.model_selection import GridSearchCV\n",
        "\n",
        "#Autoencoder\n",
        "from keras.layers import Input, Dense\n",
        "from keras.models import Model\n"
      ],
      "execution_count": 1,
      "outputs": []
    },
    {
      "cell_type": "markdown",
      "metadata": {
        "id": "Jo9rksbO10VM"
      },
      "source": [
        "# Load dataset"
      ]
    },
    {
      "cell_type": "code",
      "metadata": {
        "id": "h4z1NJddzNvc"
      },
      "source": [
        "# about the dataset\n",
        "# https://scikit-learn.org/stable/modules/generated/sklearn.datasets.fetch_california_housing.html#sklearn.datasets.fetch_california_housing\n",
        "data = datasets.load_breast_cancer()"
      ],
      "execution_count": 2,
      "outputs": []
    },
    {
      "cell_type": "code",
      "metadata": {
        "id": "VqrFJ9yKzQqG"
      },
      "source": [
        "# get feature matrix and label vector\n",
        "# get feature matrix\n",
        "x = data.data\n",
        "# get label vector\n",
        "y = data.target"
      ],
      "execution_count": 3,
      "outputs": []
    },
    {
      "cell_type": "code",
      "metadata": {
        "id": "CkNAQFpvzTOK",
        "colab": {
          "base_uri": "https://localhost:8080/",
          "height": 321
        },
        "outputId": "97e6a219-b10c-46d5-d5cf-3c5c20050d55"
      },
      "source": [
        "# visualize the label vector \n",
        "sns.countplot(y)\n",
        "plt.show()"
      ],
      "execution_count": 4,
      "outputs": [
        {
          "output_type": "stream",
          "name": "stderr",
          "text": [
            "/usr/local/lib/python3.8/dist-packages/seaborn/_decorators.py:36: FutureWarning: Pass the following variable as a keyword arg: x. From version 0.12, the only valid positional argument will be `data`, and passing other arguments without an explicit keyword will result in an error or misinterpretation.\n",
            "  warnings.warn(\n"
          ]
        },
        {
          "output_type": "display_data",
          "data": {
            "text/plain": [
              "<Figure size 432x288 with 1 Axes>"
            ],
            "image/png": "[encoded data removed]"
          },
          "metadata": {
            "needs_background": "light"
          }
        }
      ]
    },
    {
      "cell_type": "code",
      "metadata": {
        "id": "bgUroH1-1kAu",
        "colab": {
          "base_uri": "https://localhost:8080/"
        },
        "outputId": "a5d6798e-9201-43e3-f3b2-c3f5147ee454"
      },
      "source": [
        "# get the shape of the X matrix\n",
        "x.shape"
      ],
      "execution_count": 5,
      "outputs": [
        {
          "output_type": "execute_result",
          "data": {
            "text/plain": [
              "(569, 30)"
            ]
          },
          "metadata": {},
          "execution_count": 5
        }
      ]
    },
    {
      "cell_type": "code",
      "source": [
        "#make train-test-split (80% train , 20% test)\n",
        "\n",
        "xtr, xte, ytr, yte = train_test_split(x,y, test_size = 0.2)"
      ],
      "metadata": {
        "id": "iA9RyOAt58ha"
      },
      "execution_count": 6,
      "outputs": []
    },
    {
      "cell_type": "code",
      "source": [
        "#Firt, we use standar scaler to optimize the results\n",
        "#scaler = StandardScaler()\n",
        "#xtr_sc = scaler.fit_transform(xtr)\n",
        "#xte_sc = scaler.transform(xte)\n",
        "\n",
        "scaler = MinMaxScaler()\n",
        "scaler.fit(xtr)\n",
        "\n",
        "xtr_sc = scaler.transform(xtr)\n",
        "xte_sc = scaler.transform(xte)"
      ],
      "metadata": {
        "id": "0fJmaohkKYMj"
      },
      "execution_count": 7,
      "outputs": []
    },
    {
      "cell_type": "code",
      "source": [
        "f, ax = plt.subplots(1,2)\n",
        "f.set_size_inches(15,6)\n",
        "\n",
        "sns.heatmap(xtr,ax=ax[0])\n",
        "ax[0].set_title('Non-normalized data')\n",
        "sns.heatmap(xtr_sc,ax=ax[1])\n",
        "ax[1].set_title('Normalized data')"
      ],
      "metadata": {
        "id": "RWJ0cB_77uWr",
        "outputId": "6c0074de-b654-44d9-9cd5-1bccd38257d9",
        "colab": {
          "base_uri": "https://localhost:8080/",
          "height": 408
        }
      },
      "execution_count": 26,
      "outputs": [
        {
          "output_type": "execute_result",
          "data": {
            "text/plain": [
              "Text(0.5, 1.0, 'Normalized data')"
            ]
          },
          "metadata": {},
          "execution_count": 26
        },
        {
          "output_type": "display_data",
          "data": {
            "text/plain": [
              "<Figure size 1080x432 with 4 Axes>"
            ],
            "image/png": "[encoded data removed]"
          },
          "metadata": {
            "needs_background": "light"
          }
        }
      ]
    },
    {
      "cell_type": "code",
      "source": [
        "# within train set make dimension reduction with PCA and kPCA from D = x.shape[1] features to P = [2,4,6] latent dimensions.\n",
        "pca_2 = PCA(n_components=2)\n",
        "pca_2.fit(xtr_sc)\n",
        "xtr_pca_2 = pca_2.transform(xtr_sc)\n",
        "xte_pca_2 = pca_2.transform(xte_sc)\n",
        "\n",
        "pca_4 = PCA(n_components=4)\n",
        "pca_4.fit(xtr_sc)\n",
        "xtr_pca_4 = pca_4.transform(xtr_sc)\n",
        "xte_pca_4 = pca_4.transform(xte_sc)\n",
        "\n",
        "pca_6 = PCA(n_components=6)\n",
        "pca_6.fit(xtr_sc)\n",
        "xtr_pca_6 = pca_6.transform(xtr_sc)\n",
        "xte_pca_6 = pca_6.transform(xte_sc)\n",
        "\n",
        "\n",
        "# check the cumulative variance within the preserved components\n",
        "print(f'• The cumulative variance within the 2 components:  {np.sum(pca_2.explained_variance_ratio_)} \\n') \n",
        "sns.barplot(np.arange(0,2),pca_2.explained_variance_ratio_)\n",
        "plt.title('Explained variance per principal component')\n",
        "plt.show()\n",
        "\n",
        "print(f'• The cumulative variance within the 4 components:  {np.sum(pca_4.explained_variance_ratio_)} \\n') \n",
        "sns.barplot(np.arange(0,4),pca_4.explained_variance_ratio_)\n",
        "plt.title('Explained variance per principal component')\n",
        "plt.show()\n",
        "\n",
        "print(f'• The cumulative variance within the 6 components:  {np.sum(pca_6.explained_variance_ratio_)} \\n') \n",
        "sns.barplot(np.arange(0,6),pca_6.explained_variance_ratio_)\n",
        "plt.title('Explained variance per principal component')\n",
        "plt.show()"
      ],
      "metadata": {
        "colab": {
          "base_uri": "https://localhost:8080/",
          "height": 1000
        },
        "id": "KGemyQoA6N8Y",
        "outputId": "13f80504-19f3-4bdf-8983-f7b0f8756d8d"
      },
      "execution_count": 8,
      "outputs": [
        {
          "output_type": "stream",
          "name": "stderr",
          "text": [
            "/usr/local/lib/python3.8/dist-packages/seaborn/_decorators.py:36: FutureWarning: Pass the following variables as keyword args: x, y. From version 0.12, the only valid positional argument will be `data`, and passing other arguments without an explicit keyword will result in an error or misinterpretation.\n",
            "  warnings.warn(\n"
          ]
        },
        {
          "output_type": "stream",
          "name": "stdout",
          "text": [
            "• The cumulative variance within the 2 components:  0.6972578347939066 \n",
            "\n"
          ]
        },
        {
          "output_type": "display_data",
          "data": {
            "text/plain": [
              "<Figure size 432x288 with 1 Axes>"
            ],
            "image/png": "[encoded data removed]"
          },
          "metadata": {
            "needs_background": "light"
          }
        },
        {
          "output_type": "stream",
          "name": "stdout",
          "text": [
            "• The cumulative variance within the 4 components:  0.8361669823927322 \n",
            "\n"
          ]
        },
        {
          "output_type": "stream",
          "name": "stderr",
          "text": [
            "/usr/local/lib/python3.8/dist-packages/seaborn/_decorators.py:36: FutureWarning: Pass the following variables as keyword args: x, y. From version 0.12, the only valid positional argument will be `data`, and passing other arguments without an explicit keyword will result in an error or misinterpretation.\n",
            "  warnings.warn(\n"
          ]
        },
        {
          "output_type": "display_data",
          "data": {
            "text/plain": [
              "<Figure size 432x288 with 1 Axes>"
            ],
            "image/png": "[encoded data removed]"
          },
          "metadata": {
            "needs_background": "light"
          }
        },
        {
          "output_type": "stream",
          "name": "stdout",
          "text": [
            "• The cumulative variance within the 6 components:  0.9090161486794125 \n",
            "\n"
          ]
        },
        {
          "output_type": "stream",
          "name": "stderr",
          "text": [
            "/usr/local/lib/python3.8/dist-packages/seaborn/_decorators.py:36: FutureWarning: Pass the following variables as keyword args: x, y. From version 0.12, the only valid positional argument will be `data`, and passing other arguments without an explicit keyword will result in an error or misinterpretation.\n",
            "  warnings.warn(\n"
          ]
        },
        {
          "output_type": "display_data",
          "data": {
            "text/plain": [
              "<Figure size 432x288 with 1 Axes>"
            ],
            "image/png": "[encoded data removed]"
          },
          "metadata": {
            "needs_background": "light"
          }
        }
      ]
    },
    {
      "cell_type": "code",
      "source": [
        "#Make dimension reduction with kPCA\n",
        "\n",
        "kpca_2 = KernelPCA(n_components=2, kernel='rbf',gamma= 0.05)\n",
        "kpca_2.fit(xtr_sc)\n",
        "xtr_kpca_2 = kpca_2.transform(xtr_sc)\n",
        "xte_kpca_2 = kpca_2.transform(xte_sc)\n",
        "\n",
        "kpca_4 = KernelPCA(n_components=4, kernel='rbf',gamma= 0.05)\n",
        "kpca_4.fit(xtr_sc)\n",
        "xtr_kpca_4 = kpca_4.transform(xtr_sc)\n",
        "xte_kpca_4 = kpca_4.transform(xte_sc)\n",
        "\n",
        "kpca_6 = KernelPCA(n_components=6, kernel='rbf',gamma= 0.05)\n",
        "kpca_6.fit(xtr_sc)\n",
        "xtr_kpca_6 = kpca_6.transform(xtr_sc)\n",
        "xte_kpca_6 = kpca_6.transform(xte_sc)\n"
      ],
      "metadata": {
        "id": "Od26S76Y9l8J"
      },
      "execution_count": 9,
      "outputs": []
    },
    {
      "cell_type": "code",
      "source": [
        "#Extra: make a reduction with Autoencoder\n",
        "original_dim=xtr_sc.shape[1]\n",
        "\n",
        "#latent_dim=2\n",
        "# define the input layer and the encoding layer\n",
        "input_layer_2 = Input(shape=(original_dim,))\n",
        "encoding_layer_2 = Dense(2, activation='relu')(input_layer_2)\n",
        "\n",
        "# define the decoding layer\n",
        "decoding_layer_2 = Dense(original_dim, activation='sigmoid')(encoding_layer_2)\n",
        "\n",
        "# define the autoencoder model\n",
        "autoencoder_2 = Model(input_layer_2, decoding_layer_2)\n",
        "\n",
        "# compile the model\n",
        "autoencoder_2.compile(optimizer='adam', loss='binary_crossentropy')\n",
        "\n",
        "# fit the model to the data\n",
        "autoencoder_2.fit(xtr_sc, xtr_sc, epochs=50, batch_size=32, validation_data=(xte_sc, xte_sc))\n",
        "\n",
        "# get the encoding and decoding layers\n",
        "encoder_2 = Model(input_layer_2, encoding_layer_2)\n",
        "decoder_2 = Model(encoding_layer_2, decoding_layer_2)\n",
        "\n",
        "# reduce the dimensionality of the data using the encoding layer\n",
        "xlat_tr_2 = encoder_2.predict(xtr)\n",
        "xlat_te_2 = encoder_2.predict(xte)\n",
        "\n",
        "\n",
        "#latent_dim=4\n",
        "# define the input layer and the encoding layer\n",
        "input_layer_4 = Input(shape=(original_dim,))\n",
        "encoding_layer_4 = Dense(4, activation='relu')(input_layer_4)\n",
        "\n",
        "# define the decoding layer\n",
        "decoding_layer_4 = Dense(original_dim, activation='sigmoid')(encoding_layer_4)\n",
        "\n",
        "# define the autoencoder model\n",
        "autoencoder_4 = Model(input_layer_4, decoding_layer_4)\n",
        "\n",
        "# compile the model\n",
        "autoencoder_4.compile(optimizer='adam', loss='binary_crossentropy')\n",
        "\n",
        "# fit the model to the data\n",
        "autoencoder_4.fit(xtr_sc, xtr_sc, epochs=50, batch_size=32, validation_data=(xte_sc, xte_sc))\n",
        "\n",
        "# get the encoding and decoding layers\n",
        "encoder_4 = Model(input_layer_4, encoding_layer_4)\n",
        "decoder_4 = Model(encoding_layer_4, decoding_layer_4)\n",
        "\n",
        "# reduce the dimensionality of the data using the encoding layer\n",
        "xlat_tr_4 = encoder_4.predict(xtr)\n",
        "xlat_te_4 = encoder_4.predict(xte)\n",
        "\n",
        "#latent_dim=6\n",
        "# define the input layer and the encoding layer\n",
        "input_layer_6 = Input(shape=(original_dim,))\n",
        "encoding_layer_6 = Dense(6, activation='relu')(input_layer_6)\n",
        "\n",
        "# define the decoding layer\n",
        "decoding_layer_6 = Dense(original_dim, activation='sigmoid')(encoding_layer_6)\n",
        "\n",
        "# define the autoencoder model\n",
        "autoencoder_6 = Model(input_layer_6, decoding_layer_6)\n",
        "\n",
        "# compile the model\n",
        "autoencoder_6.compile(optimizer='adam', loss='binary_crossentropy')\n",
        "\n",
        "# fit the model to the data\n",
        "autoencoder_6.fit(xtr_sc, xtr_sc, epochs=50, batch_size=32, validation_data=(xte_sc, xte_sc))\n",
        "\n",
        "# get the encoding and decoding layers\n",
        "encoder_6 = Model(input_layer_6, encoding_layer_6)\n",
        "decoder_6 = Model(encoding_layer_6, decoding_layer_6)\n",
        "\n",
        "# reduce the dimensionality of the data using the encoding layer\n",
        "xlat_tr_6 = encoder_6.predict(xtr)\n",
        "xlat_te_6 = encoder_6.predict(xte)\n",
        "\n",
        "\n"
      ],
      "metadata": {
        "id": "Vk-E-QHIJ36c"
      },
      "execution_count": null,
      "outputs": []
    },
    {
      "cell_type": "code",
      "source": [
        "#Before evisualization, use TSNE tool for xtr_pca and xtr_kpca\n",
        "#As the method TSNE has a cost function that is not convex, i.e. with different initializations we can get different results.\n",
        "\n",
        "\n",
        "xtr_kpca_tsne = TSNE(n_components=2).fit_transform(xtr_kpca_2)\n",
        "xtr_pca_tsne = TSNE(n_components=2).fit_transform(xtr_pca_2)\n",
        "xtr_ae_tsne = TSNE(n_components=2).fit_transform(xlat_tr_2)\n"
      ],
      "metadata": {
        "colab": {
          "base_uri": "https://localhost:8080/"
        },
        "id": "HPFfDVKeEPJF",
        "outputId": "cc913a25-d8e6-4643-b11d-c6b8247b1710"
      },
      "execution_count": 11,
      "outputs": [
        {
          "output_type": "stream",
          "name": "stderr",
          "text": [
            "/usr/local/lib/python3.8/dist-packages/sklearn/manifold/_t_sne.py:780: FutureWarning: The default initialization in TSNE will change from 'random' to 'pca' in 1.2.\n",
            "  warnings.warn(\n",
            "/usr/local/lib/python3.8/dist-packages/sklearn/manifold/_t_sne.py:790: FutureWarning: The default learning rate in TSNE will change from 200.0 to 'auto' in 1.2.\n",
            "  warnings.warn(\n",
            "/usr/local/lib/python3.8/dist-packages/sklearn/manifold/_t_sne.py:780: FutureWarning: The default initialization in TSNE will change from 'random' to 'pca' in 1.2.\n",
            "  warnings.warn(\n",
            "/usr/local/lib/python3.8/dist-packages/sklearn/manifold/_t_sne.py:790: FutureWarning: The default learning rate in TSNE will change from 200.0 to 'auto' in 1.2.\n",
            "  warnings.warn(\n",
            "/usr/local/lib/python3.8/dist-packages/sklearn/manifold/_t_sne.py:780: FutureWarning: The default initialization in TSNE will change from 'random' to 'pca' in 1.2.\n",
            "  warnings.warn(\n",
            "/usr/local/lib/python3.8/dist-packages/sklearn/manifold/_t_sne.py:790: FutureWarning: The default learning rate in TSNE will change from 200.0 to 'auto' in 1.2.\n",
            "  warnings.warn(\n"
          ]
        }
      ]
    },
    {
      "cell_type": "code",
      "source": [
        "#Visualize the reduced subspace in 2 dimensions and colour the samples with the labels, one visualization for PCA and one for kPCA\n",
        "\n",
        "#Visualization for PCA and kPCA\n",
        "f, ax = plt.subplots(1,3)\n",
        "f.set_size_inches(15,6)\n",
        "\n",
        "sns.scatterplot(x = xtr_pca_tsne[(ytr).ravel() == 0,0], y = xtr_pca_tsne[ytr.ravel() == 0,1], ax= ax[0], legend='full', label = '0')\n",
        "sns.scatterplot(x = xtr_pca_tsne[ytr.ravel() == 1,0], y = xtr_pca_tsne[ytr.ravel() == 1,1], ax= ax[0], legend='full', label = '1')\n",
        "ax[0].set_title(\"PCA\")\n",
        "sns.scatterplot(x = xtr_kpca_tsne[(ytr).ravel() == 0,0], y = xtr_kpca_tsne[ytr.ravel() == 0,1], ax= ax[1], legend='full', label = '0')\n",
        "sns.scatterplot(x = xtr_kpca_tsne[ytr.ravel() == 1,0], y = xtr_kpca_tsne[ytr.ravel() == 1,1], ax= ax[1], legend='full', label = '1')\n",
        "ax[1].set_title(\"KPCA\")\n",
        "sns.scatterplot(x = xtr_ae_tsne[(ytr).ravel() == 0,0], y = xtr_ae_tsne[ytr.ravel() == 0,1], ax= ax[2], legend='full', label = '0')\n",
        "sns.scatterplot(x = xtr_ae_tsne[ytr.ravel() == 1,0], y = xtr_ae_tsne[ytr.ravel() == 1,1], ax= ax[2], legend='full', label = '1')\n",
        "ax[2].set_title(\"AUTOENCODER\")\n",
        "\n",
        "plt.show()"
      ],
      "metadata": {
        "colab": {
          "base_uri": "https://localhost:8080/",
          "height": 390
        },
        "id": "WMakSfSz8pzg",
        "outputId": "41783e60-4900-4287-94ba-b6984118784e"
      },
      "execution_count": 12,
      "outputs": [
        {
          "output_type": "display_data",
          "data": {
            "text/plain": [
              "<Figure size 1080x432 with 3 Axes>"
            ],
            "image/png": "[encoded data removed]"
          },
          "metadata": {
            "needs_background": "light"
          }
        }
      ]
    },
    {
      "cell_type": "code",
      "source": [
        "# Create a vector with the results\n",
        "results_df = pd.DataFrame(columns=['Model','Dimensionality reduction','Components','Explained variance','Accuracy'])"
      ],
      "metadata": {
        "id": "EPVIoi3Wc3WV"
      },
      "execution_count": 13,
      "outputs": []
    },
    {
      "cell_type": "code",
      "source": [
        "#within train set perform classification with SVM and Logistic Regression (check scikit learn toolkit). \n",
        "#Select the best hyperparameters of the models by using cross-validation (check GridSearchCV method on scikit learn).\n",
        "\n",
        "#SVC\n",
        "\n",
        "param_grid = {'C':  np.logspace(-4, 4, 50),\n",
        "              'kernel': ['linear', 'rbf'],\n",
        "              'gamma' :np.logspace(-4, 4, 50)}\n",
        "svc = SVC()\n",
        "grid_search_svc = GridSearchCV(svc, param_grid, cv=5, scoring='accuracy')\n",
        "\n",
        "# Fit the grid search object to the data\n",
        "grid_search_svc.fit(xtr_sc, ytr)\n",
        "\n",
        "# Print the best hyperparameters\n",
        "print(f\"Best hyperparameters: {grid_search_svc.best_params_}\")\n",
        "\n",
        "# Get the best model\n",
        "best_model_svc = grid_search_svc.best_estimator_\n",
        "\n",
        "# Apply the best model to the test data\n",
        "y_pred_svc = best_model_svc.predict(xte_sc)\n",
        "\n",
        "# Calculate the accuracy of the predictions\n",
        "accuracy_svc = best_model_svc.score(xte_sc, yte)\n",
        "print(f\"Test accuracy: {accuracy_svc:.3f}\")\n"
      ],
      "metadata": {
        "colab": {
          "base_uri": "https://localhost:8080/"
        },
        "id": "gcsVKSCVI7K0",
        "outputId": "4e864fa1-73eb-49ab-b2cc-756f9dab6617"
      },
      "execution_count": 14,
      "outputs": [
        {
          "output_type": "stream",
          "name": "stdout",
          "text": [
            "Best hyperparameters: {'C': 2.559547922699533, 'gamma': 1.2067926406393288, 'kernel': 'rbf'}\n",
            "Test accuracy: 0.974\n"
          ]
        }
      ]
    },
    {
      "cell_type": "code",
      "source": [
        "#Save result\n",
        "results_df = results_df.append({'Model':'SVM with CV',\n",
        "                               'Dimensionality reduction':None,\n",
        "                               'Components':None,\n",
        "                               'Accuracy': accuracy_svc},ignore_index=True)\n"
      ],
      "metadata": {
        "id": "0Sux2B0ri6NF"
      },
      "execution_count": 15,
      "outputs": []
    },
    {
      "cell_type": "code",
      "source": [
        "#LR\n",
        "\n",
        "# Define the hyperparameter grid\n",
        "param_grid = {'C': [0.1, 1,10, 100, 1000],\n",
        " 'penalty': ['l1', 'l2'],\n",
        " 'solver' :['lbfgs', 'liblinear', 'newton-cg', 'newton-cholesky', 'sag', 'saga']}\n",
        "\n",
        "# Initialize the logistic regression model\n",
        "lr = LogisticRegression()\n",
        "\n",
        "# Initialize the grid search object\n",
        "grid_search_lr = GridSearchCV(lr, param_grid, cv=5, scoring='accuracy')\n",
        "\n",
        "# Fit the grid search object to the data\n",
        "grid_search_lr.fit(xtr_sc, ytr)\n",
        "# Print the best hyperparameters\n",
        "print(f\"Best hyperparameters: {grid_search_lr.best_params_}\")\n",
        "\n",
        "# Get the best model\n",
        "best_model_lr = grid_search_lr.best_estimator_\n",
        "\n",
        "# Apply the best model to the test data\n",
        "y_pred_lr = best_model_lr.predict(xte_sc)\n",
        "\n",
        "# Calculate the accuracy of the predictions\n",
        "accuracy_lr = best_model_lr.score(xte_sc, yte)\n",
        "print(f\"Test accuracy: {accuracy_lr:.3f}\")"
      ],
      "metadata": {
        "colab": {
          "base_uri": "https://localhost:8080/"
        },
        "id": "oSsa966knr03",
        "outputId": "df987597-a632-4c3f-a308-bff372261cac"
      },
      "execution_count": 16,
      "outputs": [
        {
          "output_type": "stream",
          "name": "stderr",
          "text": [
            "/usr/local/lib/python3.8/dist-packages/sklearn/linear_model/_sag.py:352: ConvergenceWarning: The max_iter was reached which means the coef_ did not converge\n",
            "  warnings.warn(\n",
            "/usr/local/lib/python3.8/dist-packages/sklearn/linear_model/_sag.py:352: ConvergenceWarning: The max_iter was reached which means the coef_ did not converge\n",
            "  warnings.warn(\n",
            "/usr/local/lib/python3.8/dist-packages/sklearn/linear_model/_sag.py:352: ConvergenceWarning: The max_iter was reached which means the coef_ did not converge\n",
            "  warnings.warn(\n",
            "/usr/local/lib/python3.8/dist-packages/sklearn/linear_model/_sag.py:352: ConvergenceWarning: The max_iter was reached which means the coef_ did not converge\n",
            "  warnings.warn(\n",
            "/usr/local/lib/python3.8/dist-packages/sklearn/linear_model/_sag.py:352: ConvergenceWarning: The max_iter was reached which means the coef_ did not converge\n",
            "  warnings.warn(\n",
            "/usr/local/lib/python3.8/dist-packages/sklearn/linear_model/_sag.py:352: ConvergenceWarning: The max_iter was reached which means the coef_ did not converge\n",
            "  warnings.warn(\n",
            "/usr/local/lib/python3.8/dist-packages/sklearn/linear_model/_sag.py:352: ConvergenceWarning: The max_iter was reached which means the coef_ did not converge\n",
            "  warnings.warn(\n",
            "/usr/local/lib/python3.8/dist-packages/sklearn/linear_model/_sag.py:352: ConvergenceWarning: The max_iter was reached which means the coef_ did not converge\n",
            "  warnings.warn(\n",
            "/usr/local/lib/python3.8/dist-packages/sklearn/linear_model/_sag.py:352: ConvergenceWarning: The max_iter was reached which means the coef_ did not converge\n",
            "  warnings.warn(\n",
            "/usr/local/lib/python3.8/dist-packages/sklearn/linear_model/_sag.py:352: ConvergenceWarning: The max_iter was reached which means the coef_ did not converge\n",
            "  warnings.warn(\n",
            "/usr/local/lib/python3.8/dist-packages/sklearn/linear_model/_sag.py:352: ConvergenceWarning: The max_iter was reached which means the coef_ did not converge\n",
            "  warnings.warn(\n",
            "/usr/local/lib/python3.8/dist-packages/sklearn/linear_model/_sag.py:352: ConvergenceWarning: The max_iter was reached which means the coef_ did not converge\n",
            "  warnings.warn(\n",
            "/usr/local/lib/python3.8/dist-packages/sklearn/linear_model/_sag.py:352: ConvergenceWarning: The max_iter was reached which means the coef_ did not converge\n",
            "  warnings.warn(\n",
            "/usr/local/lib/python3.8/dist-packages/sklearn/linear_model/_sag.py:352: ConvergenceWarning: The max_iter was reached which means the coef_ did not converge\n",
            "  warnings.warn(\n",
            "/usr/local/lib/python3.8/dist-packages/sklearn/linear_model/_sag.py:352: ConvergenceWarning: The max_iter was reached which means the coef_ did not converge\n",
            "  warnings.warn(\n",
            "/usr/local/lib/python3.8/dist-packages/sklearn/linear_model/_sag.py:352: ConvergenceWarning: The max_iter was reached which means the coef_ did not converge\n",
            "  warnings.warn(\n",
            "/usr/local/lib/python3.8/dist-packages/sklearn/linear_model/_sag.py:352: ConvergenceWarning: The max_iter was reached which means the coef_ did not converge\n",
            "  warnings.warn(\n",
            "/usr/local/lib/python3.8/dist-packages/sklearn/linear_model/_sag.py:352: ConvergenceWarning: The max_iter was reached which means the coef_ did not converge\n",
            "  warnings.warn(\n",
            "/usr/local/lib/python3.8/dist-packages/sklearn/linear_model/_sag.py:352: ConvergenceWarning: The max_iter was reached which means the coef_ did not converge\n",
            "  warnings.warn(\n",
            "/usr/local/lib/python3.8/dist-packages/sklearn/linear_model/_sag.py:352: ConvergenceWarning: The max_iter was reached which means the coef_ did not converge\n",
            "  warnings.warn(\n",
            "/usr/local/lib/python3.8/dist-packages/sklearn/linear_model/_sag.py:352: ConvergenceWarning: The max_iter was reached which means the coef_ did not converge\n",
            "  warnings.warn(\n",
            "/usr/local/lib/python3.8/dist-packages/sklearn/linear_model/_sag.py:352: ConvergenceWarning: The max_iter was reached which means the coef_ did not converge\n",
            "  warnings.warn(\n",
            "/usr/local/lib/python3.8/dist-packages/sklearn/linear_model/_sag.py:352: ConvergenceWarning: The max_iter was reached which means the coef_ did not converge\n",
            "  warnings.warn(\n",
            "/usr/local/lib/python3.8/dist-packages/sklearn/linear_model/_sag.py:352: ConvergenceWarning: The max_iter was reached which means the coef_ did not converge\n",
            "  warnings.warn(\n",
            "/usr/local/lib/python3.8/dist-packages/sklearn/linear_model/_sag.py:352: ConvergenceWarning: The max_iter was reached which means the coef_ did not converge\n",
            "  warnings.warn(\n",
            "/usr/local/lib/python3.8/dist-packages/sklearn/linear_model/_sag.py:352: ConvergenceWarning: The max_iter was reached which means the coef_ did not converge\n",
            "  warnings.warn(\n",
            "/usr/local/lib/python3.8/dist-packages/sklearn/linear_model/_sag.py:352: ConvergenceWarning: The max_iter was reached which means the coef_ did not converge\n",
            "  warnings.warn(\n",
            "/usr/local/lib/python3.8/dist-packages/sklearn/linear_model/_sag.py:352: ConvergenceWarning: The max_iter was reached which means the coef_ did not converge\n",
            "  warnings.warn(\n",
            "/usr/local/lib/python3.8/dist-packages/sklearn/linear_model/_sag.py:352: ConvergenceWarning: The max_iter was reached which means the coef_ did not converge\n",
            "  warnings.warn(\n",
            "/usr/local/lib/python3.8/dist-packages/sklearn/linear_model/_sag.py:352: ConvergenceWarning: The max_iter was reached which means the coef_ did not converge\n",
            "  warnings.warn(\n",
            "/usr/local/lib/python3.8/dist-packages/sklearn/linear_model/_sag.py:352: ConvergenceWarning: The max_iter was reached which means the coef_ did not converge\n",
            "  warnings.warn(\n",
            "/usr/local/lib/python3.8/dist-packages/sklearn/linear_model/_sag.py:352: ConvergenceWarning: The max_iter was reached which means the coef_ did not converge\n",
            "  warnings.warn(\n",
            "/usr/local/lib/python3.8/dist-packages/sklearn/linear_model/_sag.py:352: ConvergenceWarning: The max_iter was reached which means the coef_ did not converge\n",
            "  warnings.warn(\n",
            "/usr/local/lib/python3.8/dist-packages/sklearn/linear_model/_sag.py:352: ConvergenceWarning: The max_iter was reached which means the coef_ did not converge\n",
            "  warnings.warn(\n",
            "/usr/local/lib/python3.8/dist-packages/sklearn/linear_model/_sag.py:352: ConvergenceWarning: The max_iter was reached which means the coef_ did not converge\n",
            "  warnings.warn(\n",
            "/usr/local/lib/python3.8/dist-packages/sklearn/linear_model/_sag.py:352: ConvergenceWarning: The max_iter was reached which means the coef_ did not converge\n",
            "  warnings.warn(\n",
            "/usr/local/lib/python3.8/dist-packages/sklearn/linear_model/_sag.py:352: ConvergenceWarning: The max_iter was reached which means the coef_ did not converge\n",
            "  warnings.warn(\n",
            "/usr/local/lib/python3.8/dist-packages/sklearn/linear_model/_sag.py:352: ConvergenceWarning: The max_iter was reached which means the coef_ did not converge\n",
            "  warnings.warn(\n",
            "/usr/local/lib/python3.8/dist-packages/sklearn/linear_model/_sag.py:352: ConvergenceWarning: The max_iter was reached which means the coef_ did not converge\n",
            "  warnings.warn(\n",
            "/usr/local/lib/python3.8/dist-packages/sklearn/linear_model/_sag.py:352: ConvergenceWarning: The max_iter was reached which means the coef_ did not converge\n",
            "  warnings.warn(\n",
            "/usr/local/lib/python3.8/dist-packages/sklearn/linear_model/_logistic.py:814: ConvergenceWarning: lbfgs failed to converge (status=1):\n",
            "STOP: TOTAL NO. of ITERATIONS REACHED LIMIT.\n",
            "\n",
            "Increase the number of iterations (max_iter) or scale the data as shown in:\n",
            "    https://scikit-learn.org/stable/modules/preprocessing.html\n",
            "Please also refer to the documentation for alternative solver options:\n",
            "    https://scikit-learn.org/stable/modules/linear_model.html#logistic-regression\n",
            "  n_iter_i = _check_optimize_result(\n",
            "/usr/local/lib/python3.8/dist-packages/sklearn/linear_model/_logistic.py:814: ConvergenceWarning: lbfgs failed to converge (status=1):\n",
            "STOP: TOTAL NO. of ITERATIONS REACHED LIMIT.\n",
            "\n",
            "Increase the number of iterations (max_iter) or scale the data as shown in:\n",
            "    https://scikit-learn.org/stable/modules/preprocessing.html\n",
            "Please also refer to the documentation for alternative solver options:\n",
            "    https://scikit-learn.org/stable/modules/linear_model.html#logistic-regression\n",
            "  n_iter_i = _check_optimize_result(\n",
            "/usr/local/lib/python3.8/dist-packages/sklearn/linear_model/_logistic.py:814: ConvergenceWarning: lbfgs failed to converge (status=1):\n",
            "STOP: TOTAL NO. of ITERATIONS REACHED LIMIT.\n",
            "\n",
            "Increase the number of iterations (max_iter) or scale the data as shown in:\n",
            "    https://scikit-learn.org/stable/modules/preprocessing.html\n",
            "Please also refer to the documentation for alternative solver options:\n",
            "    https://scikit-learn.org/stable/modules/linear_model.html#logistic-regression\n",
            "  n_iter_i = _check_optimize_result(\n",
            "/usr/local/lib/python3.8/dist-packages/sklearn/linear_model/_logistic.py:814: ConvergenceWarning: lbfgs failed to converge (status=1):\n",
            "STOP: TOTAL NO. of ITERATIONS REACHED LIMIT.\n",
            "\n",
            "Increase the number of iterations (max_iter) or scale the data as shown in:\n",
            "    https://scikit-learn.org/stable/modules/preprocessing.html\n",
            "Please also refer to the documentation for alternative solver options:\n",
            "    https://scikit-learn.org/stable/modules/linear_model.html#logistic-regression\n",
            "  n_iter_i = _check_optimize_result(\n",
            "/usr/local/lib/python3.8/dist-packages/sklearn/linear_model/_logistic.py:814: ConvergenceWarning: lbfgs failed to converge (status=1):\n",
            "STOP: TOTAL NO. of ITERATIONS REACHED LIMIT.\n",
            "\n",
            "Increase the number of iterations (max_iter) or scale the data as shown in:\n",
            "    https://scikit-learn.org/stable/modules/preprocessing.html\n",
            "Please also refer to the documentation for alternative solver options:\n",
            "    https://scikit-learn.org/stable/modules/linear_model.html#logistic-regression\n",
            "  n_iter_i = _check_optimize_result(\n",
            "/usr/local/lib/python3.8/dist-packages/sklearn/linear_model/_sag.py:352: ConvergenceWarning: The max_iter was reached which means the coef_ did not converge\n",
            "  warnings.warn(\n",
            "/usr/local/lib/python3.8/dist-packages/sklearn/linear_model/_sag.py:352: ConvergenceWarning: The max_iter was reached which means the coef_ did not converge\n",
            "  warnings.warn(\n",
            "/usr/local/lib/python3.8/dist-packages/sklearn/linear_model/_sag.py:352: ConvergenceWarning: The max_iter was reached which means the coef_ did not converge\n",
            "  warnings.warn(\n",
            "/usr/local/lib/python3.8/dist-packages/sklearn/linear_model/_sag.py:352: ConvergenceWarning: The max_iter was reached which means the coef_ did not converge\n",
            "  warnings.warn(\n",
            "/usr/local/lib/python3.8/dist-packages/sklearn/linear_model/_sag.py:352: ConvergenceWarning: The max_iter was reached which means the coef_ did not converge\n",
            "  warnings.warn(\n",
            "/usr/local/lib/python3.8/dist-packages/sklearn/linear_model/_sag.py:352: ConvergenceWarning: The max_iter was reached which means the coef_ did not converge\n",
            "  warnings.warn(\n",
            "/usr/local/lib/python3.8/dist-packages/sklearn/linear_model/_sag.py:352: ConvergenceWarning: The max_iter was reached which means the coef_ did not converge\n",
            "  warnings.warn(\n",
            "/usr/local/lib/python3.8/dist-packages/sklearn/linear_model/_sag.py:352: ConvergenceWarning: The max_iter was reached which means the coef_ did not converge\n",
            "  warnings.warn(\n",
            "/usr/local/lib/python3.8/dist-packages/sklearn/linear_model/_sag.py:352: ConvergenceWarning: The max_iter was reached which means the coef_ did not converge\n",
            "  warnings.warn(\n",
            "/usr/local/lib/python3.8/dist-packages/sklearn/linear_model/_sag.py:352: ConvergenceWarning: The max_iter was reached which means the coef_ did not converge\n",
            "  warnings.warn(\n",
            "/usr/local/lib/python3.8/dist-packages/sklearn/model_selection/_validation.py:372: FitFailedWarning: \n",
            "125 fits failed out of a total of 300.\n",
            "The score on these train-test partitions for these parameters will be set to nan.\n",
            "If these failures are not expected, you can try to debug them by setting error_score='raise'.\n",
            "\n",
            "Below are more details about the failures:\n",
            "--------------------------------------------------------------------------------\n",
            "25 fits failed with the following error:\n",
            "Traceback (most recent call last):\n",
            "  File \"/usr/local/lib/python3.8/dist-packages/sklearn/model_selection/_validation.py\", line 680, in _fit_and_score\n",
            "    estimator.fit(X_train, y_train, **fit_params)\n",
            "  File \"/usr/local/lib/python3.8/dist-packages/sklearn/linear_model/_logistic.py\", line 1461, in fit\n",
            "    solver = _check_solver(self.solver, self.penalty, self.dual)\n",
            "  File \"/usr/local/lib/python3.8/dist-packages/sklearn/linear_model/_logistic.py\", line 447, in _check_solver\n",
            "    raise ValueError(\n",
            "ValueError: Solver lbfgs supports only 'l2' or 'none' penalties, got l1 penalty.\n",
            "\n",
            "--------------------------------------------------------------------------------\n",
            "25 fits failed with the following error:\n",
            "Traceback (most recent call last):\n",
            "  File \"/usr/local/lib/python3.8/dist-packages/sklearn/model_selection/_validation.py\", line 680, in _fit_and_score\n",
            "    estimator.fit(X_train, y_train, **fit_params)\n",
            "  File \"/usr/local/lib/python3.8/dist-packages/sklearn/linear_model/_logistic.py\", line 1461, in fit\n",
            "    solver = _check_solver(self.solver, self.penalty, self.dual)\n",
            "  File \"/usr/local/lib/python3.8/dist-packages/sklearn/linear_model/_logistic.py\", line 447, in _check_solver\n",
            "    raise ValueError(\n",
            "ValueError: Solver newton-cg supports only 'l2' or 'none' penalties, got l1 penalty.\n",
            "\n",
            "--------------------------------------------------------------------------------\n",
            "50 fits failed with the following error:\n",
            "Traceback (most recent call last):\n",
            "  File \"/usr/local/lib/python3.8/dist-packages/sklearn/model_selection/_validation.py\", line 680, in _fit_and_score\n",
            "    estimator.fit(X_train, y_train, **fit_params)\n",
            "  File \"/usr/local/lib/python3.8/dist-packages/sklearn/linear_model/_logistic.py\", line 1461, in fit\n",
            "    solver = _check_solver(self.solver, self.penalty, self.dual)\n",
            "  File \"/usr/local/lib/python3.8/dist-packages/sklearn/linear_model/_logistic.py\", line 434, in _check_solver\n",
            "    raise ValueError(\n",
            "ValueError: Logistic Regression supports only solvers in ['liblinear', 'newton-cg', 'lbfgs', 'sag', 'saga'], got newton-cholesky.\n",
            "\n",
            "--------------------------------------------------------------------------------\n",
            "25 fits failed with the following error:\n",
            "Traceback (most recent call last):\n",
            "  File \"/usr/local/lib/python3.8/dist-packages/sklearn/model_selection/_validation.py\", line 680, in _fit_and_score\n",
            "    estimator.fit(X_train, y_train, **fit_params)\n",
            "  File \"/usr/local/lib/python3.8/dist-packages/sklearn/linear_model/_logistic.py\", line 1461, in fit\n",
            "    solver = _check_solver(self.solver, self.penalty, self.dual)\n",
            "  File \"/usr/local/lib/python3.8/dist-packages/sklearn/linear_model/_logistic.py\", line 447, in _check_solver\n",
            "    raise ValueError(\n",
            "ValueError: Solver sag supports only 'l2' or 'none' penalties, got l1 penalty.\n",
            "\n",
            "  warnings.warn(some_fits_failed_message, FitFailedWarning)\n",
            "/usr/local/lib/python3.8/dist-packages/sklearn/model_selection/_search.py:969: UserWarning: One or more of the test scores are non-finite: [       nan 0.91208791        nan        nan        nan 0.90549451\n",
            " 0.92527473 0.92087912 0.92527473        nan 0.92527473 0.92527473\n",
            "        nan 0.96263736        nan        nan        nan 0.95824176\n",
            " 0.96043956 0.95164835 0.96043956        nan 0.96043956 0.96043956\n",
            "        nan 0.96923077        nan        nan        nan 0.97142857\n",
            " 0.96923077 0.96923077 0.96923077        nan 0.96923077 0.96923077\n",
            "        nan 0.96263736        nan        nan        nan 0.97582418\n",
            " 0.97142857 0.97142857 0.97142857        nan 0.97802198 0.97582418\n",
            "        nan 0.94725275        nan        nan        nan 0.97802198\n",
            " 0.96263736 0.96263736 0.96263736        nan 0.97802198 0.97802198]\n",
            "  warnings.warn(\n"
          ]
        },
        {
          "output_type": "stream",
          "name": "stdout",
          "text": [
            "Best hyperparameters: {'C': 100, 'penalty': 'l2', 'solver': 'sag'}\n",
            "Test accuracy: 0.982\n"
          ]
        },
        {
          "output_type": "stream",
          "name": "stderr",
          "text": [
            "/usr/local/lib/python3.8/dist-packages/sklearn/linear_model/_sag.py:352: ConvergenceWarning: The max_iter was reached which means the coef_ did not converge\n",
            "  warnings.warn(\n"
          ]
        }
      ]
    },
    {
      "cell_type": "code",
      "source": [
        "#Save result\n",
        "results_df = results_df.append({'Model':'Logistic Regression with CV',\n",
        "                               'Dimensionality reduction':None,\n",
        "                               'Components':None,\n",
        "                               'Accuracy': accuracy_lr},ignore_index=True)\n"
      ],
      "metadata": {
        "id": "GSlVk0BGlXBx"
      },
      "execution_count": 17,
      "outputs": []
    },
    {
      "cell_type": "code",
      "source": [
        "#Transform the test set with the dimension reduction learned in the first step. \n",
        "#Then apply the learned classification function of the previous step. \n",
        "\n",
        "\n",
        "    \n",
        "#svc with pca \n",
        "svc2=best_model_svc\n",
        "svc2.fit(xtr_pca_2, ytr)\n",
        "pred_svc2_pca_2 = svc2.predict(xte_pca_2)\n",
        "results_df = results_df.append({'Model':'SVM with CV',\n",
        "                               'Dimensionality reduction':'PCA',\n",
        "                               'Components':2,\n",
        "                               'Accuracy': accuracy_score(yte, pred_svc2_pca_2),\n",
        "                               'Explained variance':np.sum(pca_2.explained_variance_ratio_)\n",
        "                               },ignore_index=True)\n",
        "\n",
        "svc2=best_model_svc\n",
        "svc2.fit(xtr_pca_4, ytr)\n",
        "pred_svc2_pca_4 = svc2.predict(xte_pca_4)\n",
        "results_df = results_df.append({'Model':'SVM with CV',\n",
        "                               'Dimensionality reduction':'PCA',\n",
        "                               'Components':4,\n",
        "                               'Accuracy': accuracy_score(yte, pred_svc2_pca_4),\n",
        "                               'Explained variance':np.sum(pca_4.explained_variance_ratio_)\n",
        "                               },ignore_index=True)\n",
        "\n",
        "svc2=best_model_svc\n",
        "svc2.fit(xtr_pca_6, ytr)\n",
        "pred_svc2_pca_6 = svc2.predict(xte_pca_6)\n",
        "results_df = results_df.append({'Model':'SVM with CV',\n",
        "                               'Dimensionality reduction':'PCA',\n",
        "                               'Components':6,\n",
        "                               'Accuracy': accuracy_score(yte, pred_svc2_pca_6),\n",
        "                               'Explained variance':np.sum(pca_6.explained_variance_ratio_)\n",
        "                               },ignore_index=True)\n",
        "\n",
        "\n",
        "#svc with kpca \n",
        "\n",
        "svc2=best_model_svc   \n",
        "svc2.fit(xtr_kpca_2, ytr)\n",
        "pred_svc2_kpca_2 = svc2.predict(xte_kpca_2)\n",
        "results_df = results_df.append({'Model':'SVM with CV',\n",
        "                               'Dimensionality reduction':'KPCA',\n",
        "                               'Components':2,\n",
        "                               'Accuracy': accuracy_score(yte, pred_svc2_kpca_2),\n",
        "                               'Explained variance': None\n",
        "                               },ignore_index=True)\n",
        "svc2=best_model_svc\n",
        "svc2.fit(xtr_kpca_4, ytr)\n",
        "pred_svc2_pca_4 = svc2.predict(xte_pca_4)\n",
        "results_df = results_df.append({'Model':'SVM with CV',\n",
        "                               'Dimensionality reduction':'KPCA',\n",
        "                               'Components':4,\n",
        "                               'Accuracy': accuracy_score(yte, pred_svc2_pca_4),\n",
        "                               'Explained variance': None\n",
        "                               },ignore_index=True)\n",
        "svc2=best_model_svc\n",
        "svc2.fit(xtr_pca_6, ytr)\n",
        "pred_svc2_pca_6 = svc2.predict(xte_pca_6)\n",
        "results_df = results_df.append({'Model':'SVM with CV',\n",
        "                               'Dimensionality reduction':'KPCA',\n",
        "                               'Components':6,\n",
        "                               'Accuracy': accuracy_score(yte, pred_svc2_pca_6),\n",
        "                               'Explained variance': None\n",
        "                               },ignore_index=True)\n"
      ],
      "metadata": {
        "id": "vtZL0tDUqsmS"
      },
      "execution_count": 18,
      "outputs": []
    },
    {
      "cell_type": "code",
      "source": [
        "#Transform the test set with the dimension reduction learned in the first step. \n",
        "#Then apply the learned classification function of the previous step. \n",
        "\n",
        "    \n",
        "#lr with pca \n",
        "lr2=best_model_lr\n",
        "lr2.fit(xtr_pca_2, ytr)\n",
        "pred_lr2_pca_2 = lr2.predict(xte_pca_2)\n",
        "results_df = results_df.append({'Model':'Logistic regression with CV',\n",
        "                               'Dimensionality reduction':'PCA',\n",
        "                               'Components':2,\n",
        "                               'Accuracy': lr2.score(xte_pca_2, yte),\n",
        "                               'Explained variance':None\n",
        "                               },ignore_index=True)\n",
        "lr2=best_model_lr\n",
        "lr2.fit(xtr_pca_4, ytr)\n",
        "pred_lr2_pca_4 = lr2.predict(xte_pca_4)\n",
        "results_df = results_df.append({'Model':'Logistic regression with CV',\n",
        "                               'Dimensionality reduction':'PCA',\n",
        "                               'Components':4,\n",
        "                               'Accuracy': lr2.score(xte_pca_4, yte),\n",
        "                               'Explained variance':None\n",
        "                               },ignore_index=True)\n",
        "\n",
        "lr2=best_model_lr\n",
        "lr2.fit(xtr_pca_6, ytr)\n",
        "pred_lr2_pca_6 = lr2.predict(xte_pca_6)\n",
        "results_df = results_df.append({'Model':'Logistic regression with CV',\n",
        "                               'Dimensionality reduction':'PCA',\n",
        "                               'Components':6,\n",
        "                               'Accuracy': lr2.score(xte_pca_6, yte),\n",
        "                               'Explained variance':None\n",
        "                               },ignore_index=True)\n",
        "\n",
        "\n",
        "\n",
        "\n",
        "\n",
        "\n",
        "#LR with kpca \n",
        "lr2=best_model_lr\n",
        "lr2.fit(xtr_kpca_2, ytr)\n",
        "pred_lr2_kpca_2 = lr2.predict(xte_kpca_2)\n",
        "results_df = results_df.append({'Model':'Logistic regression with CV',\n",
        "                               'Dimensionality reduction':'KPCA',\n",
        "                               'Components':2,\n",
        "                               'Accuracy': lr2.score(xte_kpca_2, yte),\n",
        "                               'Explained variance':None\n",
        "                               },ignore_index=True)\n",
        "lr2=best_model_lr\n",
        "lr2.fit(xtr_kpca_4, ytr)\n",
        "pred_lr2_kpca_4 = lr2.predict(xte_kpca_4)\n",
        "results_df = results_df.append({'Model':'Logistic regression with CV',\n",
        "                               'Dimensionality reduction':'KPCA',\n",
        "                               'Components':4,\n",
        "                               'Accuracy': lr2.score(xte_kpca_4, yte),\n",
        "                               'Explained variance':None\n",
        "                               },ignore_index=True)\n",
        "lr2=best_model_lr\n",
        "lr2.fit(xtr_kpca_6, ytr)\n",
        "pred_lr2_kpca_6 = lr2.predict(xte_kpca_6)\n",
        "results_df = results_df.append({'Model':'Logistic regression with CV',\n",
        "                               'Dimensionality reduction':'KPCA',\n",
        "                               'Components':6,\n",
        "                               'Accuracy': lr2.score(xte_kpca_6, yte),\n",
        "                               'Explained variance':None\n",
        "                               },ignore_index=True)\n",
        "\n",
        "\n",
        "\n",
        "#LR with kpca \n",
        "lr2=best_model_lr\n",
        "lr2.fit(xlat_tr_2, ytr)\n",
        "pred_lr2_ae_2 = lr2.predict(xlat_te_2)\n",
        "results_df = results_df.append({'Model':'Logistic regression with CV',\n",
        "                               'Dimensionality reduction':'Autoencoder',\n",
        "                               'Components':2,\n",
        "                               'Accuracy': lr2.score(xlat_te_2, yte),\n",
        "                               'Explained variance':None\n",
        "                               },ignore_index=True)\n",
        "lr2=best_model_lr\n",
        "lr2.fit(xlat_tr_4, ytr)\n",
        "pred_lr2_ae_4 = lr2.predict(xlat_te_4)\n",
        "results_df = results_df.append({'Model':'Logistic regression with CV',\n",
        "                               'Dimensionality reduction':'Autoencoder',\n",
        "                               'Components':4,\n",
        "                               'Accuracy': lr2.score(xlat_te_4, yte),\n",
        "                               'Explained variance':None\n",
        "                               },ignore_index=True)\n",
        "lr2=best_model_lr\n",
        "lr2.fit(xlat_tr_6, ytr)\n",
        "pred_lr2_ae_6 = lr2.predict(xlat_te_6)\n",
        "results_df = results_df.append({'Model':'Logistic regression with CV',\n",
        "                               'Dimensionality reduction':'Autoencoder',\n",
        "                               'Components':6,\n",
        "                               'Accuracy': lr2.score(xlat_te_6, yte),\n",
        "                               'Explained variance':None\n",
        "                               },ignore_index=True)"
      ],
      "metadata": {
        "id": "BzAdim2j3nAw",
        "colab": {
          "base_uri": "https://localhost:8080/"
        },
        "outputId": "21833006-d05d-4613-c64c-112a82d9065d"
      },
      "execution_count": 19,
      "outputs": [
        {
          "output_type": "stream",
          "name": "stderr",
          "text": [
            "/usr/local/lib/python3.8/dist-packages/sklearn/linear_model/_sag.py:352: ConvergenceWarning: The max_iter was reached which means the coef_ did not converge\n",
            "  warnings.warn(\n",
            "/usr/local/lib/python3.8/dist-packages/sklearn/linear_model/_sag.py:352: ConvergenceWarning: The max_iter was reached which means the coef_ did not converge\n",
            "  warnings.warn(\n"
          ]
        }
      ]
    },
    {
      "cell_type": "code",
      "metadata": {
        "id": "JR_Uv9G91sRb",
        "colab": {
          "base_uri": "https://localhost:8080/",
          "height": 582
        },
        "outputId": "6c51f590-e708-46f5-bd76-ee5ebffc143c"
      },
      "source": [
        "#Determine which model is the best based on evaluation metrics.\n",
        "results_df.sort_values(by= 'Accuracy' ,ascending= False)"
      ],
      "execution_count": 20,
      "outputs": [
        {
          "output_type": "execute_result",
          "data": {
            "text/plain": [
              "                          Model Dimensionality reduction Components  \\\n",
              "3                   SVM with CV                      PCA          4   \n",
              "12  Logistic regression with CV                     KPCA          4   \n",
              "9   Logistic regression with CV                      PCA          4   \n",
              "13  Logistic regression with CV                     KPCA          6   \n",
              "4                   SVM with CV                      PCA          6   \n",
              "7                   SVM with CV                     KPCA          6   \n",
              "1   Logistic Regression with CV                     None       None   \n",
              "0                   SVM with CV                     None       None   \n",
              "10  Logistic regression with CV                      PCA          6   \n",
              "11  Logistic regression with CV                     KPCA          2   \n",
              "8   Logistic regression with CV                      PCA          2   \n",
              "6                   SVM with CV                     KPCA          4   \n",
              "5                   SVM with CV                     KPCA          2   \n",
              "2                   SVM with CV                      PCA          2   \n",
              "16  Logistic regression with CV              Autoencoder          6   \n",
              "14  Logistic regression with CV              Autoencoder          2   \n",
              "15  Logistic regression with CV              Autoencoder          4   \n",
              "\n",
              "   Explained variance  Accuracy  \n",
              "3            0.836167  1.000000  \n",
              "12               None  0.991228  \n",
              "9                None  0.991228  \n",
              "13               None  0.982456  \n",
              "4            0.909016  0.982456  \n",
              "7                None  0.982456  \n",
              "1                 NaN  0.982456  \n",
              "0                 NaN  0.973684  \n",
              "10               None  0.973684  \n",
              "11               None  0.973684  \n",
              "8                None  0.973684  \n",
              "6                None  0.973684  \n",
              "5                None  0.964912  \n",
              "2            0.697258  0.964912  \n",
              "16               None  0.877193  \n",
              "14               None  0.412281  \n",
              "15               None  0.412281  "
            ],
            "text/html": [
              "\n",
              "  <div id=\"df-d060f186-2b2a-4c20-848c-f9ea1486a14c\">\n",
              "    <div class=\"colab-df-container\">\n",
              "      <div>\n",
              "<style scoped>\n",
              "    .dataframe tbody tr th:only-of-type {\n",
              "        vertical-align: middle;\n",
              "    }\n",
              "\n",
              "    .dataframe tbody tr th {\n",
              "        vertical-align: top;\n",
              "    }\n",
              "\n",
              "    .dataframe thead th {\n",
              "        text-align: right;\n",
              "    }\n",
              "</style>\n",
              "<table border=\"1\" class=\"dataframe\">\n",
              "  <thead>\n",
              "    <tr style=\"text-align: right;\">\n",
              "      <th></th>\n",
              "      <th>Model</th>\n",
              "      <th>Dimensionality reduction</th>\n",
              "      <th>Components</th>\n",
              "      <th>Explained variance</th>\n",
              "      <th>Accuracy</th>\n",
              "    </tr>\n",
              "  </thead>\n",
              "  <tbody>\n",
              "    <tr>\n",
              "      <th>3</th>\n",
              "      <td>SVM with CV</td>\n",
              "      <td>PCA</td>\n",
              "      <td>4</td>\n",
              "      <td>0.836167</td>\n",
              "      <td>1.000000</td>\n",
              "    </tr>\n",
              "    <tr>\n",
              "      <th>12</th>\n",
              "      <td>Logistic regression with CV</td>\n",
              "      <td>KPCA</td>\n",
              "      <td>4</td>\n",
              "      <td>None</td>\n",
              "      <td>0.991228</td>\n",
              "    </tr>\n",
              "    <tr>\n",
              "      <th>9</th>\n",
              "      <td>Logistic regression with CV</td>\n",
              "      <td>PCA</td>\n",
              "      <td>4</td>\n",
              "      <td>None</td>\n",
              "      <td>0.991228</td>\n",
              "    </tr>\n",
              "    <tr>\n",
              "      <th>13</th>\n",
              "      <td>Logistic regression with CV</td>\n",
              "      <td>KPCA</td>\n",
              "      <td>6</td>\n",
              "      <td>None</td>\n",
              "      <td>0.982456</td>\n",
              "    </tr>\n",
              "    <tr>\n",
              "      <th>4</th>\n",
              "      <td>SVM with CV</td>\n",
              "      <td>PCA</td>\n",
              "      <td>6</td>\n",
              "      <td>0.909016</td>\n",
              "      <td>0.982456</td>\n",
              "    </tr>\n",
              "    <tr>\n",
              "      <th>7</th>\n",
              "      <td>SVM with CV</td>\n",
              "      <td>KPCA</td>\n",
              "      <td>6</td>\n",
              "      <td>None</td>\n",
              "      <td>0.982456</td>\n",
              "    </tr>\n",
              "    <tr>\n",
              "      <th>1</th>\n",
              "      <td>Logistic Regression with CV</td>\n",
              "      <td>None</td>\n",
              "      <td>None</td>\n",
              "      <td>NaN</td>\n",
              "      <td>0.982456</td>\n",
              "    </tr>\n",
              "    <tr>\n",
              "      <th>0</th>\n",
              "      <td>SVM with CV</td>\n",
              "      <td>None</td>\n",
              "      <td>None</td>\n",
              "      <td>NaN</td>\n",
              "      <td>0.973684</td>\n",
              "    </tr>\n",
              "    <tr>\n",
              "      <th>10</th>\n",
              "      <td>Logistic regression with CV</td>\n",
              "      <td>PCA</td>\n",
              "      <td>6</td>\n",
              "      <td>None</td>\n",
              "      <td>0.973684</td>\n",
              "    </tr>\n",
              "    <tr>\n",
              "      <th>11</th>\n",
              "      <td>Logistic regression with CV</td>\n",
              "      <td>KPCA</td>\n",
              "      <td>2</td>\n",
              "      <td>None</td>\n",
              "      <td>0.973684</td>\n",
              "    </tr>\n",
              "    <tr>\n",
              "      <th>8</th>\n",
              "      <td>Logistic regression with CV</td>\n",
              "      <td>PCA</td>\n",
              "      <td>2</td>\n",
              "      <td>None</td>\n",
              "      <td>0.973684</td>\n",
              "    </tr>\n",
              "    <tr>\n",
              "      <th>6</th>\n",
              "      <td>SVM with CV</td>\n",
              "      <td>KPCA</td>\n",
              "      <td>4</td>\n",
              "      <td>None</td>\n",
              "      <td>0.973684</td>\n",
              "    </tr>\n",
              "    <tr>\n",
              "      <th>5</th>\n",
              "      <td>SVM with CV</td>\n",
              "      <td>KPCA</td>\n",
              "      <td>2</td>\n",
              "      <td>None</td>\n",
              "      <td>0.964912</td>\n",
              "    </tr>\n",
              "    <tr>\n",
              "      <th>2</th>\n",
              "      <td>SVM with CV</td>\n",
              "      <td>PCA</td>\n",
              "      <td>2</td>\n",
              "      <td>0.697258</td>\n",
              "      <td>0.964912</td>\n",
              "    </tr>\n",
              "    <tr>\n",
              "      <th>16</th>\n",
              "      <td>Logistic regression with CV</td>\n",
              "      <td>Autoencoder</td>\n",
              "      <td>6</td>\n",
              "      <td>None</td>\n",
              "      <td>0.877193</td>\n",
              "    </tr>\n",
              "    <tr>\n",
              "      <th>14</th>\n",
              "      <td>Logistic regression with CV</td>\n",
              "      <td>Autoencoder</td>\n",
              "      <td>2</td>\n",
              "      <td>None</td>\n",
              "      <td>0.412281</td>\n",
              "    </tr>\n",
              "    <tr>\n",
              "      <th>15</th>\n",
              "      <td>Logistic regression with CV</td>\n",
              "      <td>Autoencoder</td>\n",
              "      <td>4</td>\n",
              "      <td>None</td>\n",
              "      <td>0.412281</td>\n",
              "    </tr>\n",
              "  </tbody>\n",
              "</table>\n",
              "</div>\n",
              "      <button class=\"colab-df-convert\" onclick=\"convertToInteractive('df-d060f186-2b2a-4c20-848c-f9ea1486a14c')\"\n",
              "              title=\"Convert this dataframe to an interactive table.\"\n",
              "              style=\"display:none;\">\n",
              "        \n",
              "  <svg xmlns=\"http://www.w3.org/2000/svg\" height=\"24px\"viewBox=\"0 0 24 24\"\n",
              "       width=\"24px\">\n",
              "    <path d=\"M0 0h24v24H0V0z\" fill=\"none\"/>\n",
              "    <path d=\"M18.56 5.44l.94 2.06.94-2.06 2.06-.94-2.06-.94-.94-2.06-.94 2.06-2.06.94zm-11 1L8.5 8.5l.94-2.06 2.06-.94-2.06-.94L8.5 2.5l-.94 2.06-2.06.94zm10 10l.94 2.06.94-2.06 2.06-.94-2.06-.94-.94-2.06-.94 2.06-2.06.94z\"/><path d=\"M17.41 7.96l-1.37-1.37c-.4-.4-.92-.59-1.43-.59-.52 0-1.04.2-1.43.59L10.3 9.45l-7.72 7.72c-.78.78-.78 2.05 0 2.83L4 21.41c.39.39.9.59 1.41.59.51 0 1.02-.2 1.41-.59l7.78-7.78 2.81-2.81c.8-.78.8-2.07 0-2.86zM5.41 20L4 18.59l7.72-7.72 1.47 1.35L5.41 20z\"/>\n",
              "  </svg>\n",
              "      </button>\n",
              "      \n",
              "  <style>\n",
              "    .colab-df-container {\n",
              "      display:flex;\n",
              "      flex-wrap:wrap;\n",
              "      gap: 12px;\n",
              "    }\n",
              "\n",
              "    .colab-df-convert {\n",
              "      background-color: #E8F0FE;\n",
              "      border: none;\n",
              "      border-radius: 50%;\n",
              "      cursor: pointer;\n",
              "      display: none;\n",
              "      fill: #1967D2;\n",
              "      height: 32px;\n",
              "      padding: 0 0 0 0;\n",
              "      width: 32px;\n",
              "    }\n",
              "\n",
              "    .colab-df-convert:hover {\n",
              "      background-color: #E2EBFA;\n",
              "      box-shadow: 0px 1px 2px rgba(60, 64, 67, 0.3), 0px 1px 3px 1px rgba(60, 64, 67, 0.15);\n",
              "      fill: #174EA6;\n",
              "    }\n",
              "\n",
              "    [theme=dark] .colab-df-convert {\n",
              "      background-color: #3B4455;\n",
              "      fill: #D2E3FC;\n",
              "    }\n",
              "\n",
              "    [theme=dark] .colab-df-convert:hover {\n",
              "      background-color: #434B5C;\n",
              "      box-shadow: 0px 1px 3px 1px rgba(0, 0, 0, 0.15);\n",
              "      filter: drop-shadow(0px 1px 2px rgba(0, 0, 0, 0.3));\n",
              "      fill: #FFFFFF;\n",
              "    }\n",
              "  </style>\n",
              "\n",
              "      <script>\n",
              "        const buttonEl =\n",
              "          document.querySelector('#df-d060f186-2b2a-4c20-848c-f9ea1486a14c button.colab-df-convert');\n",
              "        buttonEl.style.display =\n",
              "          google.colab.kernel.accessAllowed ? 'block' : 'none';\n",
              "\n",
              "        async function convertToInteractive(key) {\n",
              "          const element = document.querySelector('#df-d060f186-2b2a-4c20-848c-f9ea1486a14c');\n",
              "          const dataTable =\n",
              "            await google.colab.kernel.invokeFunction('convertToInteractive',\n",
              "                                                     [key], {});\n",
              "          if (!dataTable) return;\n",
              "\n",
              "          const docLinkHtml = 'Like what you see? Visit the ' +\n",
              "            '<a target=\"_blank\" href=https://colab.research.google.com/notebooks/data_table.ipynb>data table notebook</a>'\n",
              "            + ' to learn more about interactive tables.';\n",
              "          element.innerHTML = '';\n",
              "          dataTable['output_type'] = 'display_data';\n",
              "          await google.colab.output.renderOutput(dataTable, element);\n",
              "          const docLink = document.createElement('div');\n",
              "          docLink.innerHTML = docLinkHtml;\n",
              "          element.appendChild(docLink);\n",
              "        }\n",
              "      </script>\n",
              "    </div>\n",
              "  </div>\n",
              "  "
            ]
          },
          "metadata": {},
          "execution_count": 20
        }
      ]
    },
    {
      "cell_type": "markdown",
      "metadata": {
        "id": "ZApZA-bR3y_j"
      },
      "source": [
        "# **Conditions**\n",
        "- the assignment is individual and personal. Each student must do it by their own.\n",
        "- The methodology and results obtained must be written in a 2-3 pages report. \n",
        "#### **The report must include** \n",
        "- at least 3 cited papers.\n",
        "- the following sections: Title, Abstract, Introduccion, Methods, Experiments, Discussion and Conclusions\n",
        "- You are free to implement more methods like Neural Networks"
      ]
    },
    {
      "cell_type": "markdown",
      "metadata": {
        "id": "tykQ6PFO3LKA"
      },
      "source": [
        "# **Objectives for the assignment**\n",
        "- make train-test-split (80% train , 20% test)\n",
        "- within train set make dimension reduction with PCA and kPCA from D = x.shape[1] features to P = [2,4,6] latent dimensions.\n",
        "- Visualize the reduced subspace in 2 dimensions and colour the samples with the labels, one visualization for PCA and one for kPCA.\n",
        "- within train set perform classification with SVM and Logistic Regression (check scikit learn toolkit). Select the best hyperparameters of the models by using cross-validation (check GridSearchCV method on scikit learn).\n",
        "- Transform the test set with the dimension reduction learned in the first step. Then apply the learned classification function of the previous step. Determine which model is the best based on evaluation metrics.\n",
        "- compare the results of classification in latent space against the same classification in the original input space to measure if the latent space improves the classification task.\n"
      ]
    },
    {
      "cell_type": "code",
      "source": [],
      "metadata": {
        "id": "MggnovkLQUiL"
      },
      "execution_count": 20,
      "outputs": []
    }
  ]
}